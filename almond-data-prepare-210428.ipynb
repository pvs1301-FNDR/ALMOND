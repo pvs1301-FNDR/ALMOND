{
 "cells": [
  {
   "cell_type": "code",
   "execution_count": 1,
   "metadata": {},
   "outputs": [
    {
     "name": "stdout",
     "output_type": "stream",
     "text": [
      "±\n"
     ]
    }
   ],
   "source": [
    "folder      =   r'D:\\MDRF-FNDR\\Almond-data\\data\\210427'\n",
    "file_name   =   'New 332 only to PVS_27th April 2021.csv'\n",
    "sign_text = u\"\\u00B1\"\n",
    "print(sign_text)"
   ]
  },
  {
   "cell_type": "code",
   "execution_count": 2,
   "metadata": {},
   "outputs": [],
   "source": [
    "import  os; os.chdir(folder)\n",
    "import  pandas  as   pd"
   ]
  },
  {
   "cell_type": "code",
   "execution_count": 3,
   "metadata": {},
   "outputs": [],
   "source": [
    "import  scipy.stats as stats"
   ]
  },
  {
   "cell_type": "code",
   "execution_count": 4,
   "metadata": {},
   "outputs": [],
   "source": [
    "import   numpy  as  np"
   ]
  },
  {
   "cell_type": "code",
   "execution_count": 5,
   "metadata": {},
   "outputs": [],
   "source": [
    "# from scipy.stats import mannwhitneyu\n",
    "def  almond_stats_between_groups(trans, bclass, groupdes, des, d1, d2):\n",
    "     sign_text             =  u\"\\u00B1\"\n",
    "     n1                    =  len(d1) \n",
    "     n2                    =  len(d2) \n",
    "    \n",
    "     mu_d1                  =  np.round(np.mean(d1),2)\n",
    "     sd_d1                  =  np.round(np.std(d1),1)\n",
    "     mean_sd_d1             =  str(mu_d1) + sign_text + str(sd_d1)\n",
    "    \n",
    "     mu_d2                  =  np.round(np.mean(d2),2)\n",
    "     sd_d2                  =  np.round(np.std(d2),1)\n",
    "     mean_sd_d2             =  str(mu_d2) + sign_text + str(sd_d2)\n",
    "        \n",
    "     if trans.lower() == 'log' :\n",
    "        print(\"Log transformation\")\n",
    "        d1            =    np.log(d1)\n",
    "        d2            =    np.log(d2)\n",
    "    ###    \n",
    "    \n",
    "     # from scipy.stats import wilcoxon\n",
    "        \n",
    "     mw_stat, pval       =  stats.mannwhitneyu(d1, d2)\n",
    "    \n",
    "     res_df              =  pd.DataFrame({'Type' : bclass, 'Lipid_variable' : des,\\\n",
    "                                          'Group' : groupdes,\\\n",
    "                                          'Count 1 ' : n1, '1 ==> Mean & sd ' : mean_sd_d1,\\\n",
    "                                          'Count 2 ' : n2, '2 ==> Mean & sd ' : mean_sd_d2,\\\n",
    "                                          'MW P Value ' : pval, 'transformation' : trans}, index = [0])\n",
    "     return res_df\n"
   ]
  },
  {
   "cell_type": "code",
   "execution_count": 6,
   "metadata": {},
   "outputs": [],
   "source": [
    "def  almond_stats(trans, bclass, groupdes, des, x, y):\n",
    "     sign_text             =  u\"\\u00B1\"\n",
    "     n                     =  len(x) \n",
    "     delta                 =  x - y\n",
    "     pos_delta             =  0\n",
    "     neg_delta             =  0\n",
    "     pos_delta             =  len([i for i in delta if i >= 0])\n",
    "     neg_delta             =  len([i for i in delta if i < 0])   \n",
    "    \n",
    "     mu_x                  =  np.round(np.mean(x),2)\n",
    "     sd_x                  =  np.round(np.std(x),1)\n",
    "     mean_sd_x             =  str(mu_x) + sign_text + str(sd_x)\n",
    "    \n",
    "     mu_y                  =  np.round(np.mean(y),2)\n",
    "     sd_y                  =  np.round(np.std(y),1)\n",
    "     mean_sd_y             =  str(mu_y) + sign_text + str(sd_y)\n",
    "        \n",
    "     if trans.lower() == 'log' :\n",
    "        print(\"Log transformation\")\n",
    "        x            =    np.log(x)\n",
    "        y            =    np.log(y)\n",
    "    ###    \n",
    "    \n",
    "     # from scipy.stats import wilcoxon\n",
    "        \n",
    "     wc_stat_x, pval       =  stats.wilcoxon(delta)\n",
    "    \n",
    "     res_df              =  pd.DataFrame({'Type' : bclass, 'Lipid_variable' : des,\\\n",
    "                                          'Group' : groupdes,\\\n",
    "                                          'Count' : n, 'B Mean & Std' : mean_sd_x,\\\n",
    "                                          'E Mean & Std' : mean_sd_y,\\\n",
    "                                          'WC P Value ' : pval, 'Positive delta count' : pos_delta,\\\n",
    "                                          'Negative delta count' : neg_delta, 'transformation' : trans}, index = [0])\n",
    "     return res_df"
   ]
  },
  {
   "cell_type": "code",
   "execution_count": 7,
   "metadata": {},
   "outputs": [],
   "source": [
    "df1   =   pd.read_csv(file_name)"
   ]
  },
  {
   "cell_type": "code",
   "execution_count": 8,
   "metadata": {},
   "outputs": [
    {
     "name": "stdout",
     "output_type": "stream",
     "text": [
      "(332, 121)\n"
     ]
    }
   ],
   "source": [
    "print(df1.shape)"
   ]
  },
  {
   "cell_type": "code",
   "execution_count": 9,
   "metadata": {},
   "outputs": [
    {
     "name": "stdout",
     "output_type": "stream",
     "text": [
      "Index(['Volunteer_Id', 'GROUP_ID', 'Major_Cookingoil', 'Oil_Code',\n",
      "       'MET.SYNDROME', 'MCP_B', 'MCP_E', 'TNF_alpha_B', 'TNF_alpha_E',\n",
      "       'Adiponectin_B',\n",
      "       ...\n",
      "       'Total_SFA_g_end', 'TotalDietaryFibre_g_end', 'Protein_E_end',\n",
      "       'TotalEnergyKcal_Kcal_end', 'Protein_g_end', 'TotalFat_g_end',\n",
      "       'Carbohydratesbydifference_g_end', 'AvailableCarbohydrates_g_end',\n",
      "       'Carbs_mean_Code', 'HDL_Delta_mg_dl'],\n",
      "      dtype='object', length=121)\n"
     ]
    }
   ],
   "source": [
    "print(df1.columns)"
   ]
  },
  {
   "cell_type": "code",
   "execution_count": 10,
   "metadata": {},
   "outputs": [],
   "source": [
    "import  datetime\n",
    "output = r'D:\\MDRF-FNDR\\Almond-data\\data\\210427\\output'\n",
    "mydir  = os.path.join(output, datetime.datetime.now().strftime('%Y%m%d_%H%M%S'))"
   ]
  },
  {
   "cell_type": "code",
   "execution_count": 11,
   "metadata": {},
   "outputs": [
    {
     "name": "stdout",
     "output_type": "stream",
     "text": [
      "D:\\MDRF-FNDR\\Almond-data\\data\\210427\\output\\20210428_110245\n"
     ]
    }
   ],
   "source": [
    "print(mydir)"
   ]
  },
  {
   "cell_type": "code",
   "execution_count": 12,
   "metadata": {},
   "outputs": [
    {
     "name": "stdout",
     "output_type": "stream",
     "text": [
      "<class 'pandas.core.frame.DataFrame'>\n",
      "RangeIndex: 332 entries, 0 to 331\n",
      "Columns: 121 entries, Volunteer_Id to HDL_Delta_mg_dl\n",
      "dtypes: float64(59), int64(59), object(3)\n",
      "memory usage: 314.0+ KB\n"
     ]
    }
   ],
   "source": [
    "df1.info()"
   ]
  },
  {
   "cell_type": "code",
   "execution_count": 13,
   "metadata": {},
   "outputs": [],
   "source": [
    "os.mkdir(mydir)\n",
    "os.chdir(mydir)"
   ]
  },
  {
   "cell_type": "code",
   "execution_count": 14,
   "metadata": {},
   "outputs": [],
   "source": [
    "colist    =  df1.columns.tolist()"
   ]
  },
  {
   "cell_type": "code",
   "execution_count": 15,
   "metadata": {},
   "outputs": [],
   "source": [
    "indices         =   [0, 1, 4, 13, 14, 15, 16, 18, 19, 21, 22, 24, 25, 27, 28, 30, 31, 33, 34]\n",
    "required_cols   =   [colist[index] for index in indices]\n"
   ]
  },
  {
   "cell_type": "code",
   "execution_count": 16,
   "metadata": {},
   "outputs": [
    {
     "data": {
      "text/plain": [
       "['Volunteer_Id',\n",
       " 'GROUP_ID',\n",
       " 'MET.SYNDROME',\n",
       " 'B_HDL_mg_dl',\n",
       " 'E_HDL_mg_dl',\n",
       " 'B_TCHOL_mg_dL',\n",
       " 'E_TCHOL_mg_dL',\n",
       " 'B_LDL_mg_dl',\n",
       " 'E_LDL_mg_dl',\n",
       " 'B_Tri_mg_dL',\n",
       " 'E_Tri_mg_Dl',\n",
       " 'B_TCHOL_HDL_Ratio',\n",
       " 'E_TCHOL_HDL_Ratio',\n",
       " 'B_VLDLchol_mg_dl',\n",
       " 'E_VLDLchol_mg_dl',\n",
       " 'B_ApoA_mg_dl',\n",
       " 'E_ApoA_mg_dl',\n",
       " 'B_ApoB_mg_dl',\n",
       " 'E_ApoB_mg_dl']"
      ]
     },
     "execution_count": 16,
     "metadata": {},
     "output_type": "execute_result"
    }
   ],
   "source": [
    "required_cols"
   ]
  },
  {
   "cell_type": "code",
   "execution_count": 17,
   "metadata": {},
   "outputs": [],
   "source": [
    "df11               =    df1.loc[df1['MET.SYNDROME'] == 0, required_cols]\n",
    "df12               =    df1.loc[df1['MET.SYNDROME'] == 1, required_cols]"
   ]
  },
  {
   "cell_type": "code",
   "execution_count": 18,
   "metadata": {},
   "outputs": [],
   "source": [
    "df111              =    df11.loc[df11['GROUP_ID'] == 1, :]\n",
    "df112              =    df11.loc[df11['GROUP_ID'] == 2, :]\n",
    "df121              =    df12.loc[df12['GROUP_ID'] == 1, :]\n",
    "df122              =    df12.loc[df12['GROUP_ID'] == 2, :]"
   ]
  },
  {
   "cell_type": "code",
   "execution_count": 19,
   "metadata": {},
   "outputs": [
    {
     "name": "stderr",
     "output_type": "stream",
     "text": [
      "<ipython-input-19-3129024a4292>:1: SettingWithCopyWarning: \n",
      "A value is trying to be set on a copy of a slice from a DataFrame\n",
      "\n",
      "See the caveats in the documentation: https://pandas.pydata.org/pandas-docs/stable/user_guide/indexing.html#returning-a-view-versus-a-copy\n",
      "  df111.dropna(inplace = True)\n",
      "<ipython-input-19-3129024a4292>:2: SettingWithCopyWarning: \n",
      "A value is trying to be set on a copy of a slice from a DataFrame\n",
      "\n",
      "See the caveats in the documentation: https://pandas.pydata.org/pandas-docs/stable/user_guide/indexing.html#returning-a-view-versus-a-copy\n",
      "  df112.dropna(inplace = True)\n",
      "<ipython-input-19-3129024a4292>:3: SettingWithCopyWarning: \n",
      "A value is trying to be set on a copy of a slice from a DataFrame\n",
      "\n",
      "See the caveats in the documentation: https://pandas.pydata.org/pandas-docs/stable/user_guide/indexing.html#returning-a-view-versus-a-copy\n",
      "  df121.dropna(inplace = True)\n",
      "<ipython-input-19-3129024a4292>:4: SettingWithCopyWarning: \n",
      "A value is trying to be set on a copy of a slice from a DataFrame\n",
      "\n",
      "See the caveats in the documentation: https://pandas.pydata.org/pandas-docs/stable/user_guide/indexing.html#returning-a-view-versus-a-copy\n",
      "  df122.dropna(inplace = True)\n"
     ]
    }
   ],
   "source": [
    "df111.dropna(inplace = True)\n",
    "df112.dropna(inplace = True)\n",
    "df121.dropna(inplace = True)\n",
    "df122.dropna(inplace = True)"
   ]
  },
  {
   "cell_type": "code",
   "execution_count": 20,
   "metadata": {},
   "outputs": [],
   "source": [
    "trans_list      =   ['log', '', '', 'log', '', '', '','']"
   ]
  },
  {
   "cell_type": "code",
   "execution_count": 21,
   "metadata": {},
   "outputs": [],
   "source": [
    "var              =   ['HDL_mg_dl', 'TCHOL_mg_dL', 'LDL_mg_dl', 'Tri_mg_dL', 'TCHOL_HDL_Ratio',\\\n",
    "                      'VLDLchol_mg_dl', 'ApoA_mg_dl','ApoB_mg_dl']\n",
    "\n",
    "B_var            =   ['B_HDL_mg_dl', 'B_TCHOL_mg_dL', 'B_LDL_mg_dl', 'B_Tri_mg_dL', 'B_TCHOL_HDL_Ratio',\\\n",
    "                      'B_VLDLchol_mg_dl', 'B_ApoA_mg_dl', 'B_ApoB_mg_dl']\n",
    "\n",
    "E_var            =   [ 'E_HDL_mg_dl',  'E_TCHOL_mg_dL', 'E_LDL_mg_dl', 'E_Tri_mg_Dl', 'E_TCHOL_HDL_Ratio',\\\n",
    "                       'E_VLDLchol_mg_dl', 'E_ApoA_mg_dl', 'E_ApoB_mg_dl']"
   ]
  },
  {
   "cell_type": "code",
   "execution_count": 22,
   "metadata": {},
   "outputs": [
    {
     "name": "stdout",
     "output_type": "stream",
     "text": [
      "Processing 1 HDL_mg_dl \n",
      "Log transformation\n",
      "Log transformation\n",
      "Log transformation\n",
      "Log transformation\n",
      "Log transformation\n",
      "Log transformation\n",
      "Processing 2 TCHOL_mg_dL \n",
      "Processing 3 LDL_mg_dl \n",
      "Processing 4 Tri_mg_dL \n",
      "Log transformation\n",
      "Log transformation\n",
      "Log transformation\n",
      "Log transformation\n",
      "Log transformation\n",
      "Log transformation\n",
      "Processing 5 TCHOL_HDL_Ratio \n",
      "Processing 6 VLDLchol_mg_dl "
     ]
    },
    {
     "name": "stderr",
     "output_type": "stream",
     "text": [
      "D:\\Anaconda\\lib\\site-packages\\pandas\\core\\series.py:679: RuntimeWarning: divide by zero encountered in log\n",
      "  result = getattr(ufunc, method)(*inputs, **kwargs)\n",
      "D:\\Anaconda\\lib\\site-packages\\pandas\\core\\series.py:679: RuntimeWarning: invalid value encountered in log\n",
      "  result = getattr(ufunc, method)(*inputs, **kwargs)\n"
     ]
    },
    {
     "name": "stdout",
     "output_type": "stream",
     "text": [
      "\n",
      "Processing 7 ApoA_mg_dl \n",
      "Processing 8 ApoB_mg_dl \n",
      "                  Type   Lipid_variable             Group  Count B Mean & Std  \\\n",
      "0   MS Syndrome Absent        HDL_mg_dl  Intervention Arm   83.0    40.84±7.1   \n",
      "0   MS Syndrome Absent        HDL_mg_dl       Control Arm   90.0    43.83±7.8   \n",
      "0  MS Syndrome Present        HDL_mg_dl  Intervention Arm   74.0    37.85±7.3   \n",
      "0  MS Syndrome Present        HDL_mg_dl       Control Arm   74.0    38.49±6.7   \n",
      "0  Between MS Syndrome        HDL_mg_dl  Intervention Arm    NaN          NaN   \n",
      "0  Between MS Syndrome        HDL_mg_dl       Control Arm    NaN          NaN   \n",
      "0   MS Syndrome Absent      TCHOL_mg_dL  Intervention Arm   83.0  192.52±37.7   \n",
      "0   MS Syndrome Absent      TCHOL_mg_dL       Control Arm   90.0  189.67±33.8   \n",
      "0  MS Syndrome Present      TCHOL_mg_dL  Intervention Arm   74.0  198.45±40.7   \n",
      "0  MS Syndrome Present      TCHOL_mg_dL       Control Arm   74.0  191.86±29.2   \n",
      "0  Between MS Syndrome      TCHOL_mg_dL  Intervention Arm    NaN          NaN   \n",
      "0  Between MS Syndrome      TCHOL_mg_dL       Control Arm    NaN          NaN   \n",
      "0   MS Syndrome Absent        LDL_mg_dl  Intervention Arm   83.0  127.82±33.2   \n",
      "0   MS Syndrome Absent        LDL_mg_dl       Control Arm   90.0  127.01±27.4   \n",
      "0  MS Syndrome Present        LDL_mg_dl  Intervention Arm   74.0  128.82±32.4   \n",
      "0  MS Syndrome Present        LDL_mg_dl       Control Arm   74.0  123.54±25.8   \n",
      "0  Between MS Syndrome        LDL_mg_dl  Intervention Arm    NaN          NaN   \n",
      "0  Between MS Syndrome        LDL_mg_dl       Control Arm    NaN          NaN   \n",
      "0   MS Syndrome Absent        Tri_mg_dL  Intervention Arm   83.0  116.67±60.2   \n",
      "0   MS Syndrome Absent        Tri_mg_dL       Control Arm   90.0   94.03±37.4   \n",
      "0  MS Syndrome Present        Tri_mg_dL  Intervention Arm   74.0  154.12±76.6   \n",
      "0  MS Syndrome Present        Tri_mg_dL       Control Arm   74.0  149.28±54.9   \n",
      "0  Between MS Syndrome        Tri_mg_dL  Intervention Arm    NaN          NaN   \n",
      "0  Between MS Syndrome        Tri_mg_dL       Control Arm    NaN          NaN   \n",
      "0   MS Syndrome Absent  TCHOL_HDL_Ratio  Intervention Arm   83.0     4.75±1.0   \n",
      "0   MS Syndrome Absent  TCHOL_HDL_Ratio       Control Arm   90.0      4.4±1.0   \n",
      "0  MS Syndrome Present  TCHOL_HDL_Ratio  Intervention Arm   74.0     5.26±0.9   \n",
      "0  MS Syndrome Present  TCHOL_HDL_Ratio       Control Arm   74.0     5.05±0.9   \n",
      "0  Between MS Syndrome  TCHOL_HDL_Ratio  Intervention Arm    NaN          NaN   \n",
      "0  Between MS Syndrome  TCHOL_HDL_Ratio       Control Arm    NaN          NaN   \n",
      "0   MS Syndrome Absent   VLDLchol_mg_dl  Intervention Arm   83.0   23.37±12.0   \n",
      "0   MS Syndrome Absent   VLDLchol_mg_dl       Control Arm   90.0     19.2±8.0   \n",
      "0  MS Syndrome Present   VLDLchol_mg_dl  Intervention Arm   74.0   30.85±15.3   \n",
      "0  MS Syndrome Present   VLDLchol_mg_dl       Control Arm   74.0   29.82±11.0   \n",
      "0  Between MS Syndrome   VLDLchol_mg_dl  Intervention Arm    NaN          NaN   \n",
      "0  Between MS Syndrome   VLDLchol_mg_dl       Control Arm    NaN          NaN   \n",
      "0   MS Syndrome Absent       ApoA_mg_dl  Intervention Arm   83.0  127.14±22.8   \n",
      "0   MS Syndrome Absent       ApoA_mg_dl       Control Arm   90.0  121.34±21.1   \n",
      "0  MS Syndrome Present       ApoA_mg_dl  Intervention Arm   74.0  124.54±21.7   \n",
      "0  MS Syndrome Present       ApoA_mg_dl       Control Arm   74.0  122.38±30.0   \n",
      "0  Between MS Syndrome       ApoA_mg_dl  Intervention Arm    NaN          NaN   \n",
      "0  Between MS Syndrome       ApoA_mg_dl       Control Arm    NaN          NaN   \n",
      "0   MS Syndrome Absent       ApoB_mg_dl  Intervention Arm   83.0   81.61±21.9   \n",
      "0   MS Syndrome Absent       ApoB_mg_dl       Control Arm   90.0   80.76±23.5   \n",
      "0  MS Syndrome Present       ApoB_mg_dl  Intervention Arm   74.0    82.8±23.7   \n",
      "0  MS Syndrome Present       ApoB_mg_dl       Control Arm   74.0   90.93±80.4   \n",
      "0  Between MS Syndrome       ApoB_mg_dl  Intervention Arm    NaN          NaN   \n",
      "0  Between MS Syndrome       ApoB_mg_dl       Control Arm    NaN          NaN   \n",
      "\n",
      "  E Mean & Std  WC P Value   Positive delta count  Negative delta count  \\\n",
      "0    40.63±7.6     0.598437                  45.0                  38.0   \n",
      "0    42.98±6.9     0.209919                  53.0                  37.0   \n",
      "0    37.26±7.1     0.193584                  48.0                  26.0   \n",
      "0    38.72±8.1     0.858638                  40.0                  34.0   \n",
      "0          NaN          NaN                   NaN                   NaN   \n",
      "0          NaN          NaN                   NaN                   NaN   \n",
      "0  193.57±38.0     0.685765                  41.0                  42.0   \n",
      "0  189.67±35.2     0.743414                  48.0                  42.0   \n",
      "0  192.05±39.8     0.085134                  39.0                  35.0   \n",
      "0  195.36±35.6     0.174446                  32.0                  42.0   \n",
      "0          NaN          NaN                   NaN                   NaN   \n",
      "0          NaN          NaN                   NaN                   NaN   \n",
      "0  130.11±33.9     0.415716                  38.0                  45.0   \n",
      "0  127.58±30.5     0.532445                  47.0                  43.0   \n",
      "0  125.84±33.8     0.614673                  37.0                  37.0   \n",
      "0   128.7±30.6     0.040167                  33.0                  41.0   \n",
      "0          NaN          NaN                   NaN                   NaN   \n",
      "0          NaN          NaN                   NaN                   NaN   \n",
      "0  113.06±54.5     0.596083                  47.0                  36.0   \n",
      "0   95.57±39.2     0.792973                  43.0                  47.0   \n",
      "0  143.65±69.7     0.076199                  42.0                  32.0   \n",
      "0  139.62±54.1     0.046509                  45.0                  29.0   \n",
      "0          NaN          NaN                   NaN                   NaN   \n",
      "0          NaN          NaN                   NaN                   NaN   \n",
      "0      4.8±1.1     0.533732                  66.0                  17.0   \n",
      "0     4.47±1.0     0.423005                  67.0                  23.0   \n",
      "0      5.2±1.1     0.534352                  59.0                  15.0   \n",
      "0     5.22±1.0     0.045500                  50.0                  24.0   \n",
      "0          NaN          NaN                   NaN                   NaN   \n",
      "0          NaN          NaN                   NaN                   NaN   \n",
      "0   22.59±10.9     0.520203                  49.0                  34.0   \n",
      "0    19.11±7.8     0.824513                  47.0                  43.0   \n",
      "0   28.69±13.9     0.052828                  43.0                  31.0   \n",
      "0   27.95±10.7     0.055845                  46.0                  28.0   \n",
      "0          NaN          NaN                   NaN                   NaN   \n",
      "0          NaN          NaN                   NaN                   NaN   \n",
      "0  126.78±22.4     0.799279                  44.0                  39.0   \n",
      "0  126.69±19.7     0.046288                  36.0                  54.0   \n",
      "0  125.61±23.6     0.557546                  37.0                  37.0   \n",
      "0  125.19±23.1     0.335958                  37.0                  37.0   \n",
      "0          NaN          NaN                   NaN                   NaN   \n",
      "0          NaN          NaN                   NaN                   NaN   \n",
      "0   80.24±21.8     0.415787                  47.0                  36.0   \n",
      "0   80.12±22.0     0.930355                  42.0                  48.0   \n",
      "0   84.86±24.0     0.324142                  33.0                  41.0   \n",
      "0   84.08±21.4     0.838792                  39.0                  35.0   \n",
      "0          NaN          NaN                   NaN                   NaN   \n",
      "0          NaN          NaN                   NaN                   NaN   \n",
      "\n",
      "  transformation  Count 1  1 ==> Mean & sd   Count 2  2 ==> Mean & sd   \\\n",
      "0            log       NaN              NaN       NaN              NaN   \n",
      "0            log       NaN              NaN       NaN              NaN   \n",
      "0            log       NaN              NaN       NaN              NaN   \n",
      "0            log       NaN              NaN       NaN              NaN   \n",
      "0            log      83.0         0.22±5.1      74.0         0.59±4.5   \n",
      "0            log      90.0         0.86±4.9      74.0        -0.23±4.6   \n",
      "0                      NaN              NaN       NaN              NaN   \n",
      "0                      NaN              NaN       NaN              NaN   \n",
      "0                      NaN              NaN       NaN              NaN   \n",
      "0                      NaN              NaN       NaN              NaN   \n",
      "0                     83.0       -1.05±21.8      74.0        6.39±24.1   \n",
      "0                     90.0         0.0±23.0      74.0        -3.5±21.5   \n",
      "0                      NaN              NaN       NaN              NaN   \n",
      "0                      NaN              NaN       NaN              NaN   \n",
      "0                      NaN              NaN       NaN              NaN   \n",
      "0                      NaN              NaN       NaN              NaN   \n",
      "0                     83.0       -2.29±19.8      74.0        2.99±22.2   \n",
      "0                     90.0       -0.57±20.3      74.0       -5.16±20.0   \n",
      "0            log       NaN              NaN       NaN              NaN   \n",
      "0            log       NaN              NaN       NaN              NaN   \n",
      "0            log       NaN              NaN       NaN              NaN   \n",
      "0            log       NaN              NaN       NaN              NaN   \n",
      "0            log      83.0        3.61±40.5      74.0       10.47±39.3   \n",
      "0            log      90.0       -1.53±32.2      74.0        9.66±45.1   \n",
      "0                      NaN              NaN       NaN              NaN   \n",
      "0                      NaN              NaN       NaN              NaN   \n",
      "0                      NaN              NaN       NaN              NaN   \n",
      "0                      NaN              NaN       NaN              NaN   \n",
      "0                     83.0        -0.05±0.7      74.0         0.05±0.8   \n",
      "0                     90.0        -0.07±0.7      74.0        -0.16±0.7   \n",
      "0                      NaN              NaN       NaN              NaN   \n",
      "0                      NaN              NaN       NaN              NaN   \n",
      "0                      NaN              NaN       NaN              NaN   \n",
      "0                      NaN              NaN       NaN              NaN   \n",
      "0                     83.0         0.78±8.0      74.0         2.16±7.8   \n",
      "0                     90.0         0.09±6.8      74.0         1.88±9.0   \n",
      "0                      NaN              NaN       NaN              NaN   \n",
      "0                      NaN              NaN       NaN              NaN   \n",
      "0                      NaN              NaN       NaN              NaN   \n",
      "0                      NaN              NaN       NaN              NaN   \n",
      "0                     83.0        0.36±28.4      74.0       -1.07±32.3   \n",
      "0                     90.0       -5.34±26.1      74.0       -2.81±36.8   \n",
      "0                      NaN              NaN       NaN              NaN   \n",
      "0                      NaN              NaN       NaN              NaN   \n",
      "0                      NaN              NaN       NaN              NaN   \n",
      "0                      NaN              NaN       NaN              NaN   \n",
      "0                     83.0        1.37±26.9      74.0       -2.07±31.1   \n",
      "0                     90.0        0.63±24.2      74.0        6.85±84.2   \n",
      "\n",
      "   MW P Value   \n",
      "0          NaN  \n",
      "0          NaN  \n",
      "0          NaN  \n",
      "0          NaN  \n",
      "0     0.009654  \n",
      "0     0.164903  \n",
      "0          NaN  \n",
      "0          NaN  \n",
      "0          NaN  \n",
      "0          NaN  \n",
      "0     0.048442  \n",
      "0     0.200576  \n",
      "0          NaN  \n",
      "0          NaN  \n",
      "0          NaN  \n",
      "0          NaN  \n",
      "0     0.178835  \n",
      "0     0.119654  \n",
      "0          NaN  \n",
      "0          NaN  \n",
      "0          NaN  \n",
      "0          NaN  \n",
      "0     0.306904  \n",
      "0     0.464451  \n",
      "0          NaN  \n",
      "0          NaN  \n",
      "0          NaN  \n",
      "0          NaN  \n",
      "0     0.240725  \n",
      "0     0.258080  \n",
      "0          NaN  \n",
      "0          NaN  \n",
      "0          NaN  \n",
      "0          NaN  \n",
      "0     0.174935  \n",
      "0     0.056670  \n",
      "0          NaN  \n",
      "0          NaN  \n",
      "0          NaN  \n",
      "0          NaN  \n",
      "0     0.257073  \n",
      "0     0.382429  \n",
      "0          NaN  \n",
      "0          NaN  \n",
      "0          NaN  \n",
      "0          NaN  \n",
      "0     0.118313  \n",
      "0     0.474965  \n"
     ]
    }
   ],
   "source": [
    "sno                   =    0\n",
    "res_df                =    pd.DataFrame()\n",
    "\n",
    "for  i in range(len(var)):\n",
    "    sno += 1\n",
    "    trans               =    trans_list[i]\n",
    "    var_name            =    var[i]\n",
    "    B_var_name          =    B_var[i]\n",
    "    E_var_name          =    E_var[i]   \n",
    "    print(\"Processing %d %s \" % (sno, var_name ))\n",
    "\n",
    "    x1                   =    df111[B_var_name]\n",
    "    y1                   =    df111[E_var_name]\n",
    "    res_df_ind           =    almond_stats(trans, 'MS Syndrome Absent', 'Intervention Arm', var_name, x1, y1)\n",
    "    res_df               =    res_df.append(res_df_ind)\n",
    "    \n",
    "    x2                   =    df112[B_var_name]\n",
    "    y2                   =    df112[E_var_name]\n",
    "    res_df_ind           =    almond_stats(trans, 'MS Syndrome Absent', 'Control Arm', var_name, x2, y2)\n",
    "    res_df               =    res_df.append(res_df_ind)\n",
    "    \n",
    "    x3                   =    df121[B_var_name]\n",
    "    y3                   =    df121[E_var_name]\n",
    "    res_df_ind           =    almond_stats(trans, 'MS Syndrome Present', 'Intervention Arm', var_name, x3, y3)\n",
    "    res_df               =    res_df.append(res_df_ind)\n",
    "    \n",
    "    x4                   =    df122[B_var_name]\n",
    "    y4                   =    df122[E_var_name]\n",
    "    res_df_ind           =    almond_stats(trans, 'MS Syndrome Present', 'Control Arm', var_name, x4, y4)\n",
    "    res_df               =    res_df.append(res_df_ind)\n",
    "    \n",
    "    d1                   =    x1 - y1\n",
    "    d2                   =    x3 - y3\n",
    "    res_df_ind           =    almond_stats_between_groups(trans, 'Between MS Syndrome', 'Intervention Arm', var_name, d1, d2)\n",
    "    res_df               =    res_df.append(res_df_ind)\n",
    "    \n",
    "    d3                   =    x2 - y2\n",
    "    d4                   =    x4 - y4\n",
    "    res_df_ind           =    almond_stats_between_groups(trans, 'Between MS Syndrome', 'Control Arm', var_name, d3, d4)\n",
    "    res_df               =    res_df.append(res_df_ind)    \n",
    "    \n",
    "###\n",
    "print(res_df)"
   ]
  },
  {
   "cell_type": "code",
   "execution_count": 23,
   "metadata": {},
   "outputs": [],
   "source": [
    "res_df.to_csv('Intervention Vs Control within MS.csv', encoding = 'latin-1', index = False)"
   ]
  },
  {
   "cell_type": "markdown",
   "metadata": {},
   "source": [
    "### END"
   ]
  }
 ],
 "metadata": {
  "kernelspec": {
   "display_name": "Python 3",
   "language": "python",
   "name": "python3"
  },
  "language_info": {
   "codemirror_mode": {
    "name": "ipython",
    "version": 3
   },
   "file_extension": ".py",
   "mimetype": "text/x-python",
   "name": "python",
   "nbconvert_exporter": "python",
   "pygments_lexer": "ipython3",
   "version": "3.8.3"
  }
 },
 "nbformat": 4,
 "nbformat_minor": 4
}
